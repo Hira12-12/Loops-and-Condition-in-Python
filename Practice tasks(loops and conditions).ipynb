{
 "cells": [
  {
   "cell_type": "code",
   "execution_count": 4,
   "id": "c0364e32-02b9-4de7-b511-19cae52f37d3",
   "metadata": {
    "scrolled": true
   },
   "outputs": [
    {
     "name": "stdin",
     "output_type": "stream",
     "text": [
      "Enter age 23\n"
     ]
    },
    {
     "name": "stdout",
     "output_type": "stream",
     "text": [
      "You can cast a vote\n"
     ]
    }
   ],
   "source": [
    "age=int(input(\"Enter age\"))\n",
    "if age <0:\n",
    "    print(\"Please enter a valid age\")\n",
    "elif age >=18:\n",
    "    print(\"You can cast a vote\")\n",
    "else:\n",
    "    print(\"sorry your age is under 18, you can't cast a vote\")"
   ]
  },
  {
   "cell_type": "code",
   "execution_count": 14,
   "id": "4f7a4670-83d5-423c-bff0-d81f74941009",
   "metadata": {},
   "outputs": [
    {
     "name": "stdin",
     "output_type": "stream",
     "text": [
      "Enter height in cm:  167\n"
     ]
    },
    {
     "name": "stdout",
     "output_type": "stream",
     "text": [
      "Average height person\n"
     ]
    }
   ],
   "source": [
    "height = float(input(\"Enter height in cm: \"))\n",
    "if height < 150: #5.0\n",
    "    print(\"Short person\")\n",
    "elif height >= 150 and height < 170: #5.0 or 5.8\n",
    "    print(\"Average height person\")\n",
    "elif height >= 170 and height < 190: #5.8 or 6.2\n",
    "    print(\"Tall person\")\n",
    "else:\n",
    "    print(\"Extra tall person\")\n"
   ]
  },
  {
   "cell_type": "code",
   "execution_count": 26,
   "id": "2b9b8363-8dcc-4e1e-a632-d71e285dc4ca",
   "metadata": {},
   "outputs": [
    {
     "name": "stdin",
     "output_type": "stream",
     "text": [
      "Enter Marks of Maths: 90\n",
      "Enter Marks of Physics: 87\n",
      "Enter Marks of Chemistry: 78\n"
     ]
    },
    {
     "name": "stdout",
     "output_type": "stream",
     "text": [
      "Yes you are eligible for this course\n"
     ]
    }
   ],
   "source": [
    "maths=int(input(\"Enter Marks of Maths:\"))\n",
    "phy=int(input(\"Enter Marks of Physics:\"))\n",
    "chem=int(input(\"Enter Marks of Chemistry:\"))\n",
    "t1=(maths+phy+chem)\n",
    "t2=(maths+phy)\n",
    "if maths>=65 and phy>=55 and chem>=50:\n",
    "    if t1>=190 or t2>=140:\n",
    "        print(\"Yes, you are eligible for this course\")\n",
    "    else:\n",
    "        print(\"Not eligible\")\n",
    "else:\n",
    "    print(\"Not eligible\")\n",
    "    "
   ]
  },
  {
   "cell_type": "code",
   "execution_count": 39,
   "id": "4f8305a0-80a1-4cce-9f57-f43ca74269d6",
   "metadata": {},
   "outputs": [
    {
     "name": "stdin",
     "output_type": "stream",
     "text": [
      "Enter a character @#$$\n"
     ]
    },
    {
     "name": "stdout",
     "output_type": "stream",
     "text": [
      "Its a special character\n"
     ]
    }
   ],
   "source": [
    "#This uses Python’s string methods:\n",
    "#.isalpha() → checks if alphabet\n",
    "#.isdigit() → checks if digit\n",
    "\n",
    "ch=input(\"Enter a character\")\n",
    "if ch.isalpha():\n",
    "    print(\"Its an alphabet\")\n",
    "elif ch.isdigit():\n",
    "    print(\"Its a digit\")\n",
    "else:\n",
    "    print(\"Its a special character\")"
   ]
  },
  {
   "cell_type": "code",
   "execution_count": 46,
   "id": "51d765b4-a82c-4eb3-9339-5368656e0c34",
   "metadata": {},
   "outputs": [
    {
     "name": "stdin",
     "output_type": "stream",
     "text": [
      "Enter grade : d\n"
     ]
    },
    {
     "name": "stdout",
     "output_type": "stream",
     "text": [
      "Fail\n"
     ]
    }
   ],
   "source": [
    "grade=str(input(\"Enter grade :\")).upper()\n",
    "if grade=='E':\n",
    "    print(\"Excellent\")\n",
    "elif grade=='V':\n",
    "    print(\"Very Good\")\n",
    "elif grade=='G':\n",
    "    print(\"Good\")\n",
    "elif grade=='A':\n",
    "    print(\"Average\")\n",
    "else:\n",
    "    print(\"Fail\")"
   ]
  },
  {
   "cell_type": "code",
   "execution_count": 53,
   "id": "40415aad-af01-4e8b-835b-2d7131d915a6",
   "metadata": {},
   "outputs": [
    {
     "name": "stdin",
     "output_type": "stream",
     "text": [
      "Enter your name : h\n",
      "Enter your id : 123\n",
      "Enter consumed units: 12\n"
     ]
    },
    {
     "name": "stdout",
     "output_type": "stream",
     "text": [
      "Customer ID   : 123\n",
      "Customer Name : h\n",
      "Units Consumed: 12\n",
      "Your bill is : 100 at units : 12\n"
     ]
    }
   ],
   "source": [
    "name=str(input(\"Enter your name :\"))\n",
    "id=int(input(\"Enter your id :\"))\n",
    "units=int(input(\"Enter consumed units:\"))\n",
    "bill=0\n",
    "if units<=199:\n",
    "    bill=units*1.20\n",
    "elif units>=200 and units<400:\n",
    "    bill=units*1.50\n",
    "elif units>=400 and units<600:\n",
    "    bill=units*1.80\n",
    "else:\n",
    "    bill=units*2.00\n",
    "if bill > 400:\n",
    "    bill = bill + (bill * 0.15)\n",
    "if bill < 100:\n",
    "    bill = 100\n",
    "print(\"Customer ID   :\", id)\n",
    "print(\"Customer Name :\", name)\n",
    "print(\"Units Consumed:\", units)\n",
    "print(\"Your bill is :\",bill,\"at units :\",units)\n",
    "\n"
   ]
  },
  {
   "cell_type": "code",
   "execution_count": 57,
   "id": "d3bb8ae8-9d21-4ece-b2e0-5311b1d0278c",
   "metadata": {},
   "outputs": [
    {
     "name": "stdin",
     "output_type": "stream",
     "text": [
      "Enter temperature in centigrade:  -5\n"
     ]
    },
    {
     "name": "stdout",
     "output_type": "stream",
     "text": [
      "Freezing weather\n"
     ]
    }
   ],
   "source": [
    "temp = float(input(\"Enter temperature in centigrade: \"))\n",
    "\n",
    "if temp < 0:\n",
    "    print(\"Freezing weather\")\n",
    "elif temp >= 0 and temp < 10:\n",
    "    print(\"Very Cold weather\")\n",
    "elif temp >= 10 and temp < 20:\n",
    "    print(\"Cold weather\")\n",
    "elif temp >= 20 and temp < 30:\n",
    "    print(\"Normal in Temp\")\n",
    "elif temp >= 30 and temp < 40:\n",
    "    print(\"It's Hot\")\n",
    "else:\n",
    "    print(\"It's Very Hot\")\n"
   ]
  },
  {
   "cell_type": "code",
   "execution_count": 58,
   "id": "44ac079d-d67e-4a48-b510-ee1ad96e53a8",
   "metadata": {},
   "outputs": [
    {
     "name": "stdin",
     "output_type": "stream",
     "text": [
      "Enter a number:  1234\n"
     ]
    },
    {
     "name": "stdout",
     "output_type": "stream",
     "text": [
      "Reversed number: 4321\n"
     ]
    }
   ],
   "source": [
    "num = int(input(\"Enter a number: \"))   \n",
    "rev = 0                # store the reverse value                \n",
    "while num > 0:      # jb tk 0 sy bara hai                   \n",
    "    rev = rev * 10 + num % 10    # last digit ko reverse m rkhta ha       \n",
    "    num //= 10     # last digit ko hata deta ha                     \n",
    "print(\"Reversed number:\", rev)        \n"
   ]
  },
  {
   "cell_type": "code",
   "execution_count": 59,
   "id": "2201b07d-9e12-414c-a6c5-8f325e5bdc65",
   "metadata": {},
   "outputs": [
    {
     "name": "stdin",
     "output_type": "stream",
     "text": [
      "Enter number (-1 to stop):  1\n",
      "Enter number (-1 to stop):  3\n",
      "Enter number (-1 to stop):  56\n",
      "Enter number (-1 to stop):  32\n",
      "Enter number (-1 to stop):  -1\n"
     ]
    },
    {
     "name": "stdout",
     "output_type": "stream",
     "text": [
      "Sum = 92\n"
     ]
    }
   ],
   "source": [
    "total = 0\n",
    "n = int(input(\"Enter number (-1 to stop): \"))\n",
    "while n != -1:\n",
    "    total += n\n",
    "    n = int(input(\"Enter number (-1 to stop): \"))\n",
    "print(\"Sum =\", total)"
   ]
  },
  {
   "cell_type": "code",
   "execution_count": null,
   "id": "c2a9247e-abe3-4e1f-9506-5282a9bc0452",
   "metadata": {},
   "outputs": [],
   "source": [
    "#Fibonacci series\n",
    "n = int(input(\"Enter number of terms: \"))\n",
    "a, b, count = 0, 1, 0\n",
    "while count < n:\n",
    "    print(a, end=\" \")\n",
    "    a, b = b, a + b\n",
    "    count += 1\n",
    "\n",
    "\n",
    "#General Note\n",
    "#a (first number) hamesha 0 hota hai\n",
    "#b (second number) hamesha 1 hota hai\n",
    "#Ye definition ka part hai, isiliye initialize karna zaroori hai.\n",
    "#  a, b = b, a + b Python ka multiple assignment hai ek hi line me dono values update ho jaati hain.\n",
    "#like this:\n",
    "#temp = a + b\n",
    "#a = b\n",
    "#b = temp"
   ]
  }
 ],
 "metadata": {
  "kernelspec": {
   "display_name": "Python 3 (ipykernel)",
   "language": "python",
   "name": "python3"
  },
  "language_info": {
   "codemirror_mode": {
    "name": "ipython",
    "version": 3
   },
   "file_extension": ".py",
   "mimetype": "text/x-python",
   "name": "python",
   "nbconvert_exporter": "python",
   "pygments_lexer": "ipython3",
   "version": "3.13.5"
  }
 },
 "nbformat": 4,
 "nbformat_minor": 5
}
